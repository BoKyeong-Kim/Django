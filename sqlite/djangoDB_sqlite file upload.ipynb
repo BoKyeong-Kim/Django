{
 "cells": [
  {
   "cell_type": "code",
   "execution_count": 1,
   "metadata": {},
   "outputs": [],
   "source": [
    "import sqlite3\n",
    "import pandas as pd"
   ]
  },
  {
   "cell_type": "code",
   "execution_count": 2,
   "metadata": {},
   "outputs": [],
   "source": [
    "con = sqlite3.connect('/Users/gimbogyeong/server/Django/server/django_project/db.sqlite3')"
   ]
  },
  {
   "cell_type": "code",
   "execution_count": 3,
   "metadata": {},
   "outputs": [],
   "source": [
    "cursor = con.cursor()"
   ]
  },
  {
   "cell_type": "code",
   "execution_count": 4,
   "metadata": {},
   "outputs": [
    {
     "data": {
      "text/plain": [
       "<sqlite3.Cursor at 0x11c2f1ab0>"
      ]
     },
     "execution_count": 4,
     "metadata": {},
     "output_type": "execute_result"
    }
   ],
   "source": [
    "cursor.execute('SELECT * FROM blog_post')"
   ]
  },
  {
   "cell_type": "code",
   "execution_count": 5,
   "metadata": {},
   "outputs": [
    {
     "data": {
      "text/plain": [
       "[(1,\n",
       "  '[SQL]관계형 데이터 베이스 특징',\n",
       "  '모든 데이터를 2차원 테이블로 표현\\r\\n테이블은 row(record, tuple)과 column(field, item)으로 이루어진 기본 데이터 저장 단위\\r\\n상호 관련성을 가진 테이블(table)의 집합\\r\\n만들거나 이용하기도 비교적 쉽고, 확장이 용이하다는 장점\\r\\nER모델에 따라, DB가 만들어지며, 데이터베이스는 하나 이상의 테이블로 구성 (ER모델에서 엔티티를 기반으로 테이블이 만들어짐)',\n",
       "  '2019-10-26 16:29:11.179508',\n",
       "  '2019-10-26 16:29:11.179532',\n",
       "  '2019-10-26 16:29:06',\n",
       "  1),\n",
       " (2,\n",
       "  '[SQL]스키마',\n",
       "  '데이터베이스의 구조와 제약조건에 관해 전반적인 명세를 기술한 것\\r\\n1.개체의 특성을 나타내는 속성(attribute)\\r\\n2.속성들의 집합으로 이루어진 개체(entity)\\r\\n3.개체 사이에 존재하는 관계(relation)\\r\\n> 속성, 개체, 관계에 대한 정의와 이들이 유지해야 할 제약조건을 기술한 것',\n",
       "  '2019-10-26 16:29:39.420377',\n",
       "  '2019-10-26 16:29:39.420403',\n",
       "  '2019-10-26 16:29:38',\n",
       "  1)]"
      ]
     },
     "execution_count": 5,
     "metadata": {},
     "output_type": "execute_result"
    }
   ],
   "source": [
    "cursor.fetchall()"
   ]
  },
  {
   "cell_type": "code",
   "execution_count": 6,
   "metadata": {},
   "outputs": [],
   "source": [
    "blog_post = pd.read_sql('SELECT * FROM blog_post', con,index_col=None)"
   ]
  },
  {
   "cell_type": "code",
   "execution_count": 7,
   "metadata": {},
   "outputs": [
    {
     "data": {
      "text/html": [
       "<div>\n",
       "<style scoped>\n",
       "    .dataframe tbody tr th:only-of-type {\n",
       "        vertical-align: middle;\n",
       "    }\n",
       "\n",
       "    .dataframe tbody tr th {\n",
       "        vertical-align: top;\n",
       "    }\n",
       "\n",
       "    .dataframe thead th {\n",
       "        text-align: right;\n",
       "    }\n",
       "</style>\n",
       "<table border=\"1\" class=\"dataframe\">\n",
       "  <thead>\n",
       "    <tr style=\"text-align: right;\">\n",
       "      <th></th>\n",
       "      <th>id</th>\n",
       "      <th>title</th>\n",
       "      <th>content</th>\n",
       "      <th>created_at</th>\n",
       "      <th>updated_at</th>\n",
       "      <th>published_at</th>\n",
       "      <th>author_id</th>\n",
       "    </tr>\n",
       "  </thead>\n",
       "  <tbody>\n",
       "    <tr>\n",
       "      <th>0</th>\n",
       "      <td>1</td>\n",
       "      <td>[SQL]관계형 데이터 베이스 특징</td>\n",
       "      <td>모든 데이터를 2차원 테이블로 표현\\r\\n테이블은 row(record, tuple)...</td>\n",
       "      <td>2019-10-26 16:29:11.179508</td>\n",
       "      <td>2019-10-26 16:29:11.179532</td>\n",
       "      <td>2019-10-26 16:29:06</td>\n",
       "      <td>1</td>\n",
       "    </tr>\n",
       "    <tr>\n",
       "      <th>1</th>\n",
       "      <td>2</td>\n",
       "      <td>[SQL]스키마</td>\n",
       "      <td>데이터베이스의 구조와 제약조건에 관해 전반적인 명세를 기술한 것\\r\\n1.개체의 특...</td>\n",
       "      <td>2019-10-26 16:29:39.420377</td>\n",
       "      <td>2019-10-26 16:29:39.420403</td>\n",
       "      <td>2019-10-26 16:29:38</td>\n",
       "      <td>1</td>\n",
       "    </tr>\n",
       "  </tbody>\n",
       "</table>\n",
       "</div>"
      ],
      "text/plain": [
       "   id                title                                            content  \\\n",
       "0   1  [SQL]관계형 데이터 베이스 특징  모든 데이터를 2차원 테이블로 표현\\r\\n테이블은 row(record, tuple)...   \n",
       "1   2             [SQL]스키마  데이터베이스의 구조와 제약조건에 관해 전반적인 명세를 기술한 것\\r\\n1.개체의 특...   \n",
       "\n",
       "                   created_at                  updated_at  \\\n",
       "0  2019-10-26 16:29:11.179508  2019-10-26 16:29:11.179532   \n",
       "1  2019-10-26 16:29:39.420377  2019-10-26 16:29:39.420403   \n",
       "\n",
       "          published_at  author_id  \n",
       "0  2019-10-26 16:29:06          1  \n",
       "1  2019-10-26 16:29:38          1  "
      ]
     },
     "execution_count": 7,
     "metadata": {},
     "output_type": "execute_result"
    }
   ],
   "source": [
    "blog_post"
   ]
  },
  {
   "cell_type": "code",
   "execution_count": 8,
   "metadata": {},
   "outputs": [
    {
     "data": {
      "text/plain": [
       "['모든 데이터를 2차원 테이블로 표현',\n",
       " '테이블은 row(record, tuple)과 column(field, item)으로 이루어진 기본 데이터 저장 단위',\n",
       " '상호 관련성을 가진 테이블(table)의 집합',\n",
       " '만들거나 이용하기도 비교적 쉽고, 확장이 용이하다는 장점',\n",
       " 'ER모델에 따라, DB가 만들어지며, 데이터베이스는 하나 이상의 테이블로 구성 (ER모델에서 엔티티를 기반으로 테이블이 만들어짐)']"
      ]
     },
     "execution_count": 8,
     "metadata": {},
     "output_type": "execute_result"
    }
   ],
   "source": [
    "blog_post['content'][0].split('\\r\\n')"
   ]
  },
  {
   "cell_type": "code",
   "execution_count": 9,
   "metadata": {},
   "outputs": [
    {
     "data": {
      "text/plain": [
       "['데이터베이스의 구조와 제약조건에 관해 전반적인 명세를 기술한 것',\n",
       " '1.개체의 특성을 나타내는 속성(attribute)',\n",
       " '2.속성들의 집합으로 이루어진 개체(entity)',\n",
       " '3.개체 사이에 존재하는 관계(relation)',\n",
       " '> 속성, 개체, 관계에 대한 정의와 이들이 유지해야 할 제약조건을 기술한 것']"
      ]
     },
     "execution_count": 9,
     "metadata": {},
     "output_type": "execute_result"
    }
   ],
   "source": [
    "blog_post['content'][1].split('\\r\\n')"
   ]
  }
 ],
 "metadata": {
  "kernelspec": {
   "display_name": "Python 3",
   "language": "python",
   "name": "python3"
  },
  "language_info": {
   "codemirror_mode": {
    "name": "ipython",
    "version": 3
   },
   "file_extension": ".py",
   "mimetype": "text/x-python",
   "name": "python",
   "nbconvert_exporter": "python",
   "pygments_lexer": "ipython3",
   "version": "3.7.3"
  }
 },
 "nbformat": 4,
 "nbformat_minor": 2
}
